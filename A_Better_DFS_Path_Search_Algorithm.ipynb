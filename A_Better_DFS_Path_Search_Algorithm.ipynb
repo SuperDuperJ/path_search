{
 "cells": [
  {
   "cell_type": "code",
   "execution_count": 1,
   "id": "408841e8",
   "metadata": {},
   "outputs": [],
   "source": [
    "from collections import deque"
   ]
  },
  {
   "cell_type": "markdown",
   "id": "438570ec",
   "metadata": {},
   "source": [
    "In many places online one can find the following recursive depth-first path search algorithm.  I first encountered this algorithm when taking a course on Algorithms and Data Structures from Codecademy.com.  On Codecademy and other websites it is claimed that this algorithm will always produce a path (if one exists) from the current_vertex to the target_vertex.  As we will see, this is not always true."
   ]
  },
  {
   "cell_type": "code",
   "execution_count": 2,
   "id": "b757bef5",
   "metadata": {},
   "outputs": [],
   "source": [
    "def dfs(graph, current_vertex, target_value, visited=None):\n",
    "    if visited is None:\n",
    "        visited = []\n",
    "\t\n",
    "    visited.append(current_vertex)\n",
    "  \n",
    "    if current_vertex == target_value:\n",
    "        return visited\n",
    "        \n",
    "    for neighbor in graph[current_vertex]:\n",
    "        if neighbor not in visited:\n",
    "            walk = dfs(graph, neighbor, target_value, visited)\n",
    "            if walk:\n",
    "                return walk"
   ]
  },
  {
   "cell_type": "markdown",
   "id": "b4cd5e86",
   "metadata": {},
   "source": [
    "A \\emph{star} graph is a simple tree that has one central vertex that is adjacent to all other vertices.  All other vertices have degree $1$.\n",
    "\n",
    "Running this algorithm on a star-graph (a few times if necessary), we can see that the algorithm does not always produce a path from B to E."
   ]
  },
  {
   "cell_type": "code",
   "execution_count": 3,
   "id": "265e760f",
   "metadata": {},
   "outputs": [],
   "source": [
    "# Star Graph\n",
    "star_graph = {\n",
    "    'A': set(['B', 'C', 'D', 'E', 'F', 'G']),\n",
    "    'B': set(['A']),\n",
    "    'C': set(['A']),\n",
    "    'D': set(['A']),\n",
    "    'E': set(['A']),\n",
    "    'F': set(['A']),\n",
    "    'G': set(['A']) \n",
    "}"
   ]
  },
  {
   "cell_type": "markdown",
   "id": "6a4f3070",
   "metadata": {},
   "source": [
    "There is only one path from B to E in the star graph.  That is B, A, E."
   ]
  },
  {
   "cell_type": "code",
   "execution_count": 4,
   "id": "35f24bd8",
   "metadata": {},
   "outputs": [
    {
     "data": {
      "text/plain": [
       "['B', 'A', 'D', 'E']"
      ]
     },
     "execution_count": 4,
     "metadata": {},
     "output_type": "execute_result"
    }
   ],
   "source": [
    "dfs(star_graph, 'B', 'E')"
   ]
  },
  {
   "cell_type": "markdown",
   "id": "0f57f2c2",
   "metadata": {},
   "source": [
    "When I ran the above code, I got $[$'B', 'A', 'D', 'E'$]$.  However, B,A,D,E is NOT a path in the star graph at all!  This is because this dfs algorithm returns the visited array.  So, what happened was that the algorithm visited B, then A, then D, reached a dead end, backtracked to A, then visited E.  \n",
    "\n",
    "I am truly amazed that people think so highly of this algorithm.  It doesn't really consistently do anything all that exciting.  This discrepency with what this algorithm is actually doing bothered me!\n",
    "\n",
    "So, after thinking of how the algorithm works, I realized that you could also keep track of the path taken and, when a dead end is reached, delete a vertex when the algorithm backtracks.\n",
    "\n",
    "This is essentially what my algorithm does."
   ]
  },
  {
   "cell_type": "code",
   "execution_count": 5,
   "id": "dbdaf01b",
   "metadata": {},
   "outputs": [],
   "source": [
    "def path_search_dfs(graph, current_vertex, target_value, visited = None, walk = None):\n",
    "    if visited is None:\n",
    "        visited = []\n",
    "\t\n",
    "    if walk is None:\n",
    "        walk = []\n",
    "\n",
    "    visited.append(current_vertex)\n",
    "    walk.append(current_vertex)\n",
    "  \n",
    "    if current_vertex == target_value:\n",
    "        return visited, walk\n",
    "        \n",
    "    for neighbor in graph[current_vertex]:\n",
    "        if neighbor not in visited:\n",
    "            X, Y = path_search_dfs(graph, neighbor, target_value, visited, walk)\n",
    "            if X:\n",
    "                return X, Y\n",
    "            else:\n",
    "                Y.pop()\n",
    "    return None, walk"
   ]
  },
  {
   "cell_type": "markdown",
   "id": "fc9b2b07",
   "metadata": {},
   "source": [
    "Running this on the star graph (a few times if necessary), we see that the actual path $[$B, A, E$]$ is returned as the 1st element in the return tuple.  \n",
    "\n",
    "The algorithm returns a tuple of the form: (visited_array, path_array).\n",
    "\n",
    "It is necessary to return this tuple so that recursion can be used."
   ]
  },
  {
   "cell_type": "code",
   "execution_count": 6,
   "id": "c57ac9d8",
   "metadata": {},
   "outputs": [
    {
     "data": {
      "text/plain": [
       "(['B', 'A', 'D', 'E'], ['B', 'A', 'E'])"
      ]
     },
     "execution_count": 6,
     "metadata": {},
     "output_type": "execute_result"
    }
   ],
   "source": [
    "path_search_dfs(star_graph, 'B', 'E')"
   ]
  },
  {
   "cell_type": "code",
   "execution_count": null,
   "id": "294e810d",
   "metadata": {},
   "outputs": [],
   "source": []
  }
 ],
 "metadata": {
  "kernelspec": {
   "display_name": "Python 3 (ipykernel)",
   "language": "python",
   "name": "python3"
  },
  "language_info": {
   "codemirror_mode": {
    "name": "ipython",
    "version": 3
   },
   "file_extension": ".py",
   "mimetype": "text/x-python",
   "name": "python",
   "nbconvert_exporter": "python",
   "pygments_lexer": "ipython3",
   "version": "3.9.12"
  }
 },
 "nbformat": 4,
 "nbformat_minor": 5
}
